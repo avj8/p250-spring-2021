{
 "cells": [
  {
   "cell_type": "markdown",
   "metadata": {},
   "source": [
    "# Sensitivity to Choice of Algorithm\n",
    "\n",
    "Mathematically equivalent equations are **not** all equally good for numerical work.  In fact, the mathematical expressions we use for defining many quantities (derivatives, integrals, *etc.*) are often very poor for numerical work.  Here we will explore this using a simple example.\n",
    "\n",
    "Load all the modules we need.  This should typically be done early in the document."
   ]
  },
  {
   "cell_type": "code",
   "execution_count": 1,
   "metadata": {},
   "outputs": [],
   "source": [
    "import numpy as np"
   ]
  },
  {
   "cell_type": "markdown",
   "metadata": {},
   "source": [
    "## Calculation of $1/3^n$\n",
    "\n",
    "There are many, many ways to calculate $1/3^n$.  Here we will explore two recursion relations.  Mathematically these *exactly* calculate $1/3^n$.  We are interested in how they behave numerically.\n",
    "\n",
    "#### $p$ Recursion Formula\n",
    "\n",
    "Consider the following recursive algorithm:\n",
    "$$ p_0 = 1, \\quad p_1 = \\frac{1}{3},$$\n",
    "$$p_n = \\frac{5}{6} p_{n-1} - \\frac{1}{6} p_{n-2}, \\quad \\mbox{ for all }\\, n\\ge2.$$\n",
    "\n",
    "This is implemented below."
   ]
  },
  {
   "cell_type": "code",
   "execution_count": 2,
   "metadata": {},
   "outputs": [],
   "source": [
    "def prec(n) :\n",
    "    \"\"\"Mostly stable recursion relation for 1/3^n.\n",
    "    Input: n : integer value.\n",
    "    Output: Array of all values of 1/3^n from 0 up to and including n.\"\"\"\n",
    "    p = np.zeros(n+1)\n",
    "    p[0] = 1\n",
    "    p[1] = 1./3\n",
    "    for j in range(2,n+1) :\n",
    "        p[j] = 5./6*p[j-1] - 1./6*p[j-2]\n",
    "    return p    "
   ]
  },
  {
   "cell_type": "markdown",
   "metadata": {},
   "source": [
    "#### $q$ Recursion Formula\n",
    "\n",
    "Consider the following recursive algorithm:\n",
    "$$ q_0 = 1, \\quad q_1 = \\frac{1}{3},$$\n",
    "$$q_n = \\frac{5}{3} q_{n-1} - \\frac{4}{9} q_{n-2}, \\quad \\mbox{ for all }\\, n\\ge2.$$\n",
    "\n",
    "This is implemented below."
   ]
  },
  {
   "cell_type": "code",
   "execution_count": 3,
   "metadata": {},
   "outputs": [],
   "source": [
    "def qrec(n) :\n",
    "    \"\"\"Mostly unstable recursion relation for 1/3^n.\n",
    "    Input: n : integer value.\n",
    "    Output: Array of all values of 1/3^n from 0 up to and including n.\"\"\"\n",
    "    q = np.zeros(n+1)\n",
    "    q[0] = 1\n",
    "    q[1] = 1./3\n",
    "    for j in range(2,n+1) :\n",
    "        q[j] = 5./3*q[j-1] - 4./9*q[j-2]\n",
    "    return q    "
   ]
  },
  {
   "cell_type": "markdown",
   "metadata": {},
   "source": [
    "## Basic Tests\n",
    "\n",
    "Let us see what we have created and verify it works.\n",
    "\n",
    "#### Documentation\n",
    "\n",
    "We can get documentation on the functions we wrote.  This shows us how/where the documentation is stored.  We can use the existing system even for the functions we write!"
   ]
  },
  {
   "cell_type": "code",
   "execution_count": 4,
   "metadata": {},
   "outputs": [
    {
     "data": {
      "text/plain": [
       "\u001b[0;31mSignature:\u001b[0m \u001b[0mprec\u001b[0m\u001b[0;34m(\u001b[0m\u001b[0mn\u001b[0m\u001b[0;34m)\u001b[0m\u001b[0;34m\u001b[0m\u001b[0;34m\u001b[0m\u001b[0m\n",
       "\u001b[0;31mDocstring:\u001b[0m\n",
       "Mostly stable recursion relation for 1/3^n.\n",
       "Input: n : integer value.\n",
       "Output: Array of all values of 1/3^n from 0 up to and including n.\n",
       "\u001b[0;31mFile:\u001b[0m      ~/teaching/phys250/github/course_materials/examples/<ipython-input-2-0ff1cc050fa9>\n",
       "\u001b[0;31mType:\u001b[0m      function\n"
      ]
     },
     "metadata": {},
     "output_type": "display_data"
    }
   ],
   "source": [
    "prec?"
   ]
  },
  {
   "cell_type": "markdown",
   "metadata": {},
   "source": [
    "#### Small tests\n",
    "\n",
    "We should actually run the functions for a small `n` to verify they do something and produce the same results (they are *suppose* to be calculating the same thing)."
   ]
  },
  {
   "cell_type": "code",
   "execution_count": 5,
   "metadata": {},
   "outputs": [
    {
     "data": {
      "text/plain": [
       "array([1.        , 0.33333333, 0.11111111, 0.03703704, 0.01234568])"
      ]
     },
     "execution_count": 5,
     "metadata": {},
     "output_type": "execute_result"
    }
   ],
   "source": [
    "prec(4)"
   ]
  },
  {
   "cell_type": "code",
   "execution_count": 6,
   "metadata": {},
   "outputs": [
    {
     "data": {
      "text/plain": [
       "array([1.        , 0.33333333, 0.11111111, 0.03703704, 0.01234568])"
      ]
     },
     "execution_count": 6,
     "metadata": {},
     "output_type": "execute_result"
    }
   ],
   "source": [
    "qrec(4)"
   ]
  },
  {
   "cell_type": "markdown",
   "metadata": {},
   "source": [
    "## Tests\n",
    "\n",
    "We know what values should be returned, so we can compare them to the expected values.  Here we do so by calculating the fractional error in both algorithms."
   ]
  },
  {
   "cell_type": "code",
   "execution_count": 7,
   "metadata": {},
   "outputs": [],
   "source": [
    "N=40\n",
    "p = prec(N)\n",
    "q = qrec(N)\n",
    "n = np.arange(N+1)\n",
    "expected = 1/3.**n\n",
    "perr = np.abs(1-p/expected)\n",
    "qerr = np.abs(1-q/expected)"
   ]
  },
  {
   "cell_type": "markdown",
   "metadata": {},
   "source": [
    "#### Aside: Division and forcing floating point numbers\n",
    "\n",
    "In Python 3 division of integers that should produce a floating point number will in fact produce a floating point number.  This may seem obvious to you, but it is **not the case in most other (older) languages** and even is not true in Python 2.  In other languages 1/4 = 0, not 0.25, since it is doing integer division and returned the closest integer by truncating the decimal places.  This behavior (unfortunately) was changed in Python 3.\n",
    "\n",
    "This can lead to problems and inconsistencies.  Take for example the `expected` variable above.  There I forced floating point division, and in fact I forced `3.**n` to be floating point instead of an integer.  Why did I do this?  Let's check.  Suppose we did not force floating point, then we find the following."
   ]
  },
  {
   "cell_type": "code",
   "execution_count": 8,
   "metadata": {},
   "outputs": [
    {
     "data": {
      "text/plain": [
       "array([ 1.00000000e+00,  3.33333333e-01,  1.11111111e-01,  3.70370370e-02,\n",
       "        1.23456790e-02,  4.11522634e-03,  1.37174211e-03,  4.57247371e-04,\n",
       "        1.52415790e-04,  5.08052634e-05,  1.69350878e-05,  5.64502927e-06,\n",
       "        1.88167642e-06,  6.27225474e-07,  2.09075158e-07,  6.96917194e-08,\n",
       "        2.32305731e-08,  7.74352438e-09,  2.58117479e-09,  8.60391597e-10,\n",
       "        2.86797199e-10,  9.55990664e-11,  3.18663555e-11,  1.06221185e-11,\n",
       "        3.54070616e-12,  1.18023539e-12,  3.93411796e-13,  1.31137265e-13,\n",
       "        4.37124217e-14,  1.45708072e-14,  4.85693575e-15,  1.61897858e-15,\n",
       "        5.39659528e-16,  1.79886509e-16,  5.99621697e-17,  1.99873899e-17,\n",
       "        6.66246331e-18,  2.22082110e-18,  7.40273701e-19,  2.46757900e-19,\n",
       "       -1.59005804e-19])"
      ]
     },
     "execution_count": 8,
     "metadata": {},
     "output_type": "execute_result"
    }
   ],
   "source": [
    "1/3**n "
   ]
  },
  {
   "cell_type": "markdown",
   "metadata": {},
   "source": [
    "How can this be negative for large `n`?!  If we compare this to `expected` we see"
   ]
  },
  {
   "cell_type": "code",
   "execution_count": 9,
   "metadata": {},
   "outputs": [
    {
     "data": {
      "text/plain": [
       "array([1.00000000e+00, 3.33333333e-01, 1.11111111e-01, 3.70370370e-02,\n",
       "       1.23456790e-02, 4.11522634e-03, 1.37174211e-03, 4.57247371e-04,\n",
       "       1.52415790e-04, 5.08052634e-05, 1.69350878e-05, 5.64502927e-06,\n",
       "       1.88167642e-06, 6.27225474e-07, 2.09075158e-07, 6.96917194e-08,\n",
       "       2.32305731e-08, 7.74352438e-09, 2.58117479e-09, 8.60391597e-10,\n",
       "       2.86797199e-10, 9.55990664e-11, 3.18663555e-11, 1.06221185e-11,\n",
       "       3.54070616e-12, 1.18023539e-12, 3.93411796e-13, 1.31137265e-13,\n",
       "       4.37124217e-14, 1.45708072e-14, 4.85693575e-15, 1.61897858e-15,\n",
       "       5.39659528e-16, 1.79886509e-16, 5.99621697e-17, 1.99873899e-17,\n",
       "       6.66246331e-18, 2.22082110e-18, 7.40273701e-19, 2.46757900e-19,\n",
       "       8.22526334e-20])"
      ]
     },
     "execution_count": 9,
     "metadata": {},
     "output_type": "execute_result"
    }
   ],
   "source": [
    "expected"
   ]
  },
  {
   "cell_type": "markdown",
   "metadata": {},
   "source": [
    "Notice this is perfectly well behaved, even for the largest value of `n`.  What went wrong?  The problem is again the finite number of digits that can be stored.  In this case, it is the fact that an integer also only can have a finite number of digits in it, if we try to calculate \"too large\" an integer it overflows, becoming negative.  In other words, we \"accidentally\" set the sign bit.  To check this consider the following."
   ]
  },
  {
   "cell_type": "code",
   "execution_count": 10,
   "metadata": {},
   "outputs": [
    {
     "data": {
      "text/plain": [
       "-6289078614652622815"
      ]
     },
     "execution_count": 10,
     "metadata": {},
     "output_type": "execute_result"
    }
   ],
   "source": [
    "3**n[-1]"
   ]
  },
  {
   "cell_type": "markdown",
   "metadata": {},
   "source": [
    "As we see, this is a negative number, hence the problem.  If we force floating point on the other hand:"
   ]
  },
  {
   "cell_type": "code",
   "execution_count": 11,
   "metadata": {},
   "outputs": [
    {
     "data": {
      "text/plain": [
       "1.2157665459056929e+19"
      ]
     },
     "execution_count": 11,
     "metadata": {},
     "output_type": "execute_result"
    }
   ],
   "source": [
    "3.**n[-1]"
   ]
  },
  {
   "cell_type": "markdown",
   "metadata": {},
   "source": [
    "We see it is now positive.  It is **not exact**.  We cannot store 19 digits so this value has been truncated.\n",
    "\n",
    "To further complicate things consider the following."
   ]
  },
  {
   "cell_type": "code",
   "execution_count": 12,
   "metadata": {},
   "outputs": [
    {
     "data": {
      "text/plain": [
       "12157665459056928801"
      ]
     },
     "execution_count": 12,
     "metadata": {},
     "output_type": "execute_result"
    }
   ],
   "source": [
    "3**N"
   ]
  },
  {
   "cell_type": "markdown",
   "metadata": {},
   "source": [
    "This did **not overflow**.  It is positive and exact!  What is going on?!  Well, there is no maximum for integers in Python 3, we can have arbitrarily large values.  So why did this not work above?  The reason is that we are using NumPy which passes off all calculations to compiled code with fixed sizes and precisions.  Since `n` is a NumPy array we secretly forced Python to use NumPy routines for the calculation instead of its own.\n",
    "\n",
    "Why would we want to do this?  The NumPy routines are significantly faster and more powerful.  We can operate on arrays of values and by having fixed precision the algorithms can be much more efficient.  But this does show one of the many confusing things that can happen.\n",
    "\n",
    "#### Advice\n",
    "\n",
    "My advice is to always be explicit.  When you mean to use floating point numbers, force floating point numbers.  We will see this show up other times when working with NumPy arrays and algorithms.  Although most of the time things will work fine if we are not careful, when it does not work it can be very difficult to debug.  We can avoid that pain by being careful from the beginning.\n",
    "\n",
    "Getting back to our tests we see the errors are ..."
   ]
  },
  {
   "cell_type": "code",
   "execution_count": 13,
   "metadata": {},
   "outputs": [
    {
     "data": {
      "text/plain": [
       "array([0.00000000e+00, 0.00000000e+00, 2.22044605e-16, 6.66133815e-16,\n",
       "       1.77635684e-15, 3.10862447e-15, 5.77315973e-15, 9.54791801e-15,\n",
       "       1.55431223e-14, 2.48689958e-14, 3.88578059e-14, 5.99520433e-14,\n",
       "       9.17044218e-14, 1.39666056e-13, 2.12274642e-13, 3.21076499e-13,\n",
       "       4.84501328e-13, 7.29194483e-13, 1.09645626e-12, 1.64734892e-12,\n",
       "       2.47379894e-12, 3.71347397e-12, 5.57331958e-12, 8.36308800e-12,\n",
       "       1.25486288e-11, 1.88269400e-11, 2.82445178e-11, 4.23712176e-11,\n",
       "       6.35613784e-11, 9.53470636e-11, 1.43026035e-10, 2.14544826e-10,\n",
       "       3.21823235e-10, 4.82740514e-10, 7.24117211e-10, 1.08618248e-09,\n",
       "       1.62928049e-09, 2.44392706e-09, 3.66589759e-09, 5.49885359e-09,\n",
       "       8.24828805e-09])"
      ]
     },
     "execution_count": 13,
     "metadata": {},
     "output_type": "execute_result"
    }
   ],
   "source": [
    "perr"
   ]
  },
  {
   "cell_type": "code",
   "execution_count": 14,
   "metadata": {},
   "outputs": [
    {
     "data": {
      "text/plain": [
       "array([0.00000000e+00, 0.00000000e+00, 4.44089210e-16, 3.10862447e-15,\n",
       "       1.35447209e-14, 5.59552404e-14, 2.27817765e-13, 9.14379683e-13,\n",
       "       3.66173758e-12, 1.46525014e-11, 5.86160009e-11, 2.34470221e-10,\n",
       "       9.37887989e-10, 3.75155973e-09, 1.50062471e-08, 6.00249976e-08,\n",
       "       2.40100000e-07, 9.60400009e-07, 3.84160005e-06, 1.53664002e-05,\n",
       "       6.14656008e-05, 2.45862403e-04, 9.83449612e-04, 3.93379845e-03,\n",
       "       1.57351938e-02, 6.29407752e-02, 2.51763101e-01, 1.00705240e+00,\n",
       "       4.02820961e+00, 1.61128385e+01, 6.44513538e+01, 2.57805415e+02,\n",
       "       1.03122166e+03, 4.12488664e+03, 1.64995466e+04, 6.59981863e+04,\n",
       "       2.63992745e+05, 1.05597098e+06, 4.22388392e+06, 1.68955357e+07,\n",
       "       6.75821428e+07])"
      ]
     },
     "execution_count": 14,
     "metadata": {},
     "output_type": "execute_result"
    }
   ],
   "source": [
    "qerr"
   ]
  },
  {
   "cell_type": "markdown",
   "metadata": {},
   "source": [
    "Notice that the errors are not zero, so the values are not exact, but we do not expect them to be.  We expect them to be \"close\", for some definition of close.  In both cases the errors are rather small at first, but the errors for the $q$ recursion seem to be growing faster than for the $p$ recursion.  In fact, for the $q$ recursion the error becomes huge!  The recursion totally fails!  This despite the fact that both algorithms are mathematically exact."
   ]
  },
  {
   "cell_type": "markdown",
   "metadata": {},
   "source": [
    "## Plots of Errors\n",
    "\n",
    "Looking at lists of numbers is fine, but a plot is typically easier to read.  Plotting will be covered in more detail in the first few labs.  Eventually the following will be quite natural for you ...."
   ]
  },
  {
   "cell_type": "code",
   "execution_count": 15,
   "metadata": {},
   "outputs": [
    {
     "data": {
      "image/png": "[encoded data removed]",
      "text/plain": [
       "<Figure size 432x288 with 1 Axes>"
      ]
     },
     "metadata": {
      "needs_background": "light"
     },
     "output_type": "display_data"
    }
   ],
   "source": [
    "import matplotlib.pyplot as plt\n",
    "%matplotlib inline\n",
    "fig = plt.figure()\n",
    "ax = fig.add_subplot(111)\n",
    "ax.semilogy(n, qerr, 'rs', label=r'$q$ recursion')\n",
    "ax.semilogy(n, perr, 'ko', label=r'$p$ recursion')\n",
    "ax.axhline(1, ls='--', color='k')\n",
    "ax.set_xlabel(r'$n$')\n",
    "ax.set_ylabel('Fractional Error')\n",
    "ax.set_title(r'Comparison of Algorithms for Computing $1/3^n$')\n",
    "ax.minorticks_on()\n",
    "ax.legend(loc='upper left')\n",
    "# Purely aesthetic changes.\n",
    "# I will \"rant\" about this in a future lab!\n",
    "ax.set_xlim(0, 40)\n",
    "ax.tick_params(which='both', direction='in', right=True, top=True)"
   ]
  },
  {
   "cell_type": "markdown",
   "metadata": {},
   "source": [
    "From the plot we can clearly see that the errors in the $q$ recursion algorithm not only grow much more quickly than those from the $p$ recursion algorithm, but become absurdly large.  This algorithm is not usable for actual computations! "
   ]
  }
 ],
 "metadata": {
  "kernelspec": {
   "display_name": "Python 3",
   "language": "python",
   "name": "python3"
  },
  "language_info": {
   "codemirror_mode": {
    "name": "ipython",
    "version": 3
   },
   "file_extension": ".py",
   "mimetype": "text/x-python",
   "name": "python",
   "nbconvert_exporter": "python",
   "pygments_lexer": "ipython3",
   "version": "3.8.5"
  }
 },
 "nbformat": 4,
 "nbformat_minor": 4
}
